{
 "cells": [
  {
   "cell_type": "code",
   "execution_count": 1,
   "metadata": {},
   "outputs": [
    {
     "name": "stderr",
     "output_type": "stream",
     "text": [
      "[WDM] - Downloading: 100%|██████████| 6.58M/6.58M [00:01<00:00, 3.82MB/s]\n",
      "C:\\Users\\anjir\\AppData\\Local\\Temp\\ipykernel_12852\\2262300459.py:7: DeprecationWarning: executable_path has been deprecated, please pass in a Service object\n",
      "  driver = webdriver.Chrome(ChromeDriverManager().install())\n"
     ]
    },
    {
     "name": "stdout",
     "output_type": "stream",
     "text": [
      "https://www.linkedin.com/in/goutam-sahu-b8721b92/\n",
      "https://www.linkedin.com/in/tejas-sonune-859835198/\n",
      "no\n",
      "https://www.linkedin.com/in/prateek-koul-1b4791134/\n",
      "no\n",
      "https://www.linkedin.com/in/saipreethi-reddy-a81053220\n",
      "https://www.linkedin.com/in/swetha-vasudevan-1aa00b191\n",
      "no\n",
      "https://www.linkedin.com/in/mohammed-mustafa-9684b0189\n",
      "no\n",
      "https://www.linkedin.com/in/rahul-deshmukh-26083a184\n",
      "no\n",
      "https:www.linkedin.com/in/rohan-somadder/\n",
      "no\n",
      "https:www.linkedin.com/in/nagashree-b-79bb9020b\n",
      "no\n",
      "https:www.linkedin.com/in/aayush2095/\n",
      "no\n",
      "https://www.linkedin.com/in/goutam-sahu-b8721b92/ Yes\n",
      "https://www.linkedin.com/in/tejas-sonune-859835198/ No\n",
      "https://www.linkedin.com/in/prateek-koul-1b4791134/ No\n",
      "https://www.linkedin.com/in/saipreethi-reddy-a81053220 Yes\n",
      "https://www.linkedin.com/in/swetha-vasudevan-1aa00b191 No\n",
      "https://www.linkedin.com/in/mohammed-mustafa-9684b0189 No\n",
      "https://www.linkedin.com/in/rahul-deshmukh-26083a184 No\n",
      "https:www.linkedin.com/in/rohan-somadder/ No\n",
      "https:www.linkedin.com/in/nagashree-b-79bb9020b No\n",
      "https:www.linkedin.com/in/aayush2095/ No\n"
     ]
    }
   ],
   "source": [
    "import time\n",
    "from selenium import webdriver\n",
    "from webdriver_manager.chrome import ChromeDriverManager\n",
    "from selenium.webdriver.common.by import By\n",
    "from selenium.webdriver import ActionChains\n",
    "\n",
    "driver = webdriver.Chrome(ChromeDriverManager().install())\n",
    "result =dict()\n",
    "driver.maximize_window()\n",
    "URL = 'https://www.linkedin.com/login'\n",
    "driver.get(URL)\n",
    "username = driver.find_element(By.XPATH, '//input[@id=\"username\"]').send_keys('aksharaammulu9@gmail.com')\n",
    "password = driver.find_element(By.XPATH, '//input[@id=\"password\"]').send_keys('Tanubuddy@2016')\n",
    "time.sleep(3)\n",
    "driver.find_element(By.XPATH, \"//button[text()='Sign in']\").click()\n",
    "time.sleep(30)\n",
    "driver.find_element(By.XPATH, '//div[@class=\"t-16 t-black t-bold\"]').click()\n",
    "time.sleep(3)\n",
    "driver.execute_script(\"return arguments[0].scrollIntoView();\",\n",
    "                      driver.find_element(By.XPATH, '//*[text()=\"Skills\"]//parent::span[@aria-hidden=\"true\"]'))\n",
    "time.sleep(3)\n",
    "driver.find_element(By.XPATH, '//*[text()=\"Microsoft Azure\"]//parent::span[@aria-hidden=\"true\"]').is_displayed()\n",
    "time.sleep(3)\n",
    "# s = driver.find_element(By.XPATH, '//*[text()=\"Microsoft Azure\"]//parent::span[@aria-hidden=\"true\"]').text\n",
    "\n",
    "text = driver.find_element(By.XPATH, '//*[text()=\"Microsoft Azure\"]//parent::span[@aria-hidden=\"true\"]').text\n",
    "t1 = 'Microsoft Azure'\n",
    "    \n",
    "input = ['https://www.linkedin.com/in/goutam-sahu-b8721b92/', 'https://www.linkedin.com/in/tejas-sonune-859835198/',\n",
    "         'https://www.linkedin.com/in/prateek-koul-1b4791134/',\n",
    "         'https://www.linkedin.com/in/saipreethi-reddy-a81053220',\n",
    "         'https://www.linkedin.com/in/swetha-vasudevan-1aa00b191',\n",
    "         'https://www.linkedin.com/in/mohammed-mustafa-9684b0189',\n",
    "         'https://www.linkedin.com/in/rahul-deshmukh-26083a184', 'https:www.linkedin.com/in/rohan-somadder/',\n",
    "         'https:www.linkedin.com/in/nagashree-b-79bb9020b', 'https:www.linkedin.com/in/aayush2095/']\n",
    "\n",
    "for i in input:\n",
    "    print(i)\n",
    "    driver.execute_script(\"window.open('');\")\n",
    "    driver.switch_to.window(driver.window_handles[1])\n",
    "    driver.get(i)\n",
    "    time.sleep(3)\n",
    "    try:\n",
    "        driver.execute_script(\"return arguments[0].scrollIntoView();\",\n",
    "                          driver.find_element(By.XPATH, '//*[text()=\"Skills\"]//parent::span[@aria-hidden=\"true\"]'))\n",
    "        time.sleep(3)\n",
    "        driver.find_element(By.XPATH, '//*[text()=\"Microsoft Azure\"]//parent::span[@aria-hidden=\"true\"]').is_displayed()\n",
    "        time.sleep(3)\n",
    "        driver.find_element(By.XPATH, '//*[text()=\"Microsoft Azure\"]//parent::span[@aria-hidden=\"true\"]').text\n",
    "        text = driver.find_element(By.XPATH, '//*[text()=\"Microsoft Azure\"]//parent::span[@aria-hidden=\"true\"]').text\n",
    "        t1 = 'Microsoft Azure'\n",
    "    except Exception as ex:\n",
    "        result[i] = \"No\"\n",
    "        print(\"no\")\n",
    "        continue\n",
    "    if t1 in text:\n",
    "        result[i] = \"Yes\"\n",
    "    else:\n",
    "        result[i] = \"No\"\n",
    "    time.sleep(10)\n",
    "\n",
    "\n",
    "for k,m in result.items():\n",
    "    print(k,m)"
   ]
  }
 ],
 "metadata": {
  "kernelspec": {
   "display_name": "Python 3",
   "language": "python",
   "name": "python3"
  },
  "language_info": {
   "codemirror_mode": {
    "name": "ipython",
    "version": 3
   },
   "file_extension": ".py",
   "mimetype": "text/x-python",
   "name": "python",
   "nbconvert_exporter": "python",
   "pygments_lexer": "ipython3",
   "version": "3.10.8 (tags/v3.10.8:aaaf517, Oct 11 2022, 16:50:30) [MSC v.1933 64 bit (AMD64)]"
  },
  "orig_nbformat": 4,
  "vscode": {
   "interpreter": {
    "hash": "369f2c481f4da34e4445cda3fffd2e751bd1c4d706f27375911949ba6bb62e1c"
   }
  }
 },
 "nbformat": 4,
 "nbformat_minor": 2
}
